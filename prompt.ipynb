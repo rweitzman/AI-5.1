{
 "cells": [
  {
   "cell_type": "markdown",
   "metadata": {},
   "source": [
    "### Will a Customer Accept the Coupon?\n",
    "\n",
    "**Context**\n",
    "\n",
    "Imagine driving through town and a coupon is delivered to your cell phone for a restaraunt near where you are driving. Would you accept that coupon and take a short detour to the restaraunt? Would you accept the coupon but use it on a sunbsequent trip? Would you ignore the coupon entirely? What if the coupon was for a bar instead of a restaraunt? What about a coffee house? Would you accept a bar coupon with a minor passenger in the car? What about if it was just you and your partner in the car? Would weather impact the rate of acceptance? What about the time of day?\n",
    "\n",
    "Obviously, proximity to the business is a factor on whether the coupon is delivered to the driver or not, but what are the factors that determine whether a driver accepts the coupon once it is delivered to them? How would you determine whether a driver is likely to accept a coupon?\n",
    "\n",
    "**Overview**\n",
    "\n",
    "The goal of this project is to use what you know about visualizations and probability distributions to distinguish between customers who accepted a driving coupon versus those that did not.\n",
    "\n",
    "**Data**\n",
    "\n",
    "This data comes to us from the UCI Machine Learning repository and was collected via a survey on Amazon Mechanical Turk. The survey describes different driving scenarios including the destination, current time, weather, passenger, etc., and then ask the person whether he will accept the coupon if he is the driver. Answers that the user will drive there ‘right away’ or ‘later before the coupon expires’ are labeled as ‘Y = 1’ and answers ‘no, I do not want the coupon’ are labeled as ‘Y = 0’.  There are five different types of coupons -- less expensive restaurants (under \\\\$20), coffee houses, carry out & take away, bar, and more expensive restaurants (\\\\$20 - \\\\$50). "
   ]
  },
  {
   "cell_type": "markdown",
   "metadata": {},
   "source": [
    "**Deliverables**\n",
    "\n",
    "Your final product should be a brief report that highlights the differences between customers who did and did not accept the coupons.  To explore the data you will utilize your knowledge of plotting, statistical summaries, and visualization using Python. You will publish your findings in a public facing github repository as your first portfolio piece. \n",
    "\n",
    "\n",
    "\n"
   ]
  },
  {
   "cell_type": "markdown",
   "metadata": {},
   "source": [
    "### Data Description\n",
    "Keep in mind that these values mentioned below are average values.\n",
    "\n",
    "The attributes of this data set include:\n",
    "1. User attributes\n",
    "    -  Gender: male, female\n",
    "    -  Age: below 21, 21 to 25, 26 to 30, etc.\n",
    "    -  Marital Status: single, married partner, unmarried partner, or widowed\n",
    "    -  Number of children: 0, 1, or more than 1\n",
    "    -  Education: high school, bachelors degree, associates degree, or graduate degree\n",
    "    -  Occupation: architecture & engineering, business & financial, etc.\n",
    "    -  Annual income: less than \\\\$12500, \\\\$12500 - \\\\$24999, \\\\$25000 - \\\\$37499, etc.\n",
    "    -  Number of times that he/she goes to a bar: 0, less than 1, 1 to 3, 4 to 8 or greater than 8\n",
    "    -  Number of times that he/she buys takeaway food: 0, less than 1, 1 to 3, 4 to 8 or greater\n",
    "    than 8\n",
    "    -  Number of times that he/she goes to a coffee house: 0, less than 1, 1 to 3, 4 to 8 or\n",
    "    greater than 8\n",
    "    -  Number of times that he/she eats at a restaurant with average expense less than \\\\$20 per\n",
    "    person: 0, less than 1, 1 to 3, 4 to 8 or greater than 8\n",
    "    -  Number of times that he/she goes to a bar: 0, less than 1, 1 to 3, 4 to 8 or greater than 8\n",
    "    \n",
    "\n",
    "2. Contextual attributes\n",
    "    - Driving destination: home, work, or no urgent destination\n",
    "    - Location of user, coupon and destination: we provide a map to show the geographical\n",
    "    location of the user, destination, and the venue, and we mark the distance between each\n",
    "    two places with time of driving. The user can see whether the venue is in the same\n",
    "    direction as the destination.\n",
    "    - Weather: sunny, rainy, or snowy\n",
    "    - Temperature: 30F, 55F, or 80F\n",
    "    - Time: 10AM, 2PM, or 6PM\n",
    "    - Passenger: alone, partner, kid(s), or friend(s)\n",
    "\n",
    "\n",
    "3. Coupon attributes\n",
    "    - time before it expires: 2 hours or one day"
   ]
  },
  {
   "cell_type": "code",
   "execution_count": 2,
   "metadata": {},
   "outputs": [],
   "source": [
    "import matplotlib.pyplot as plt\n",
    "import seaborn as sns\n",
    "import pandas as pd\n",
    "import numpy as np"
   ]
  },
  {
   "cell_type": "markdown",
   "metadata": {},
   "source": [
    "### Problems\n",
    "\n",
    "Use the prompts below to get started with your data analysis.  \n",
    "\n",
    "1. Read in the `coupons.csv` file.\n",
    "\n",
    "\n"
   ]
  },
  {
   "cell_type": "code",
   "execution_count": 3,
   "metadata": {},
   "outputs": [],
   "source": [
    "data = pd.read_csv('data/coupons.csv')"
   ]
  },
  {
   "cell_type": "code",
   "execution_count": 4,
   "metadata": {},
   "outputs": [
    {
     "data": {
      "text/html": [
       "<div>\n",
       "<style scoped>\n",
       "    .dataframe tbody tr th:only-of-type {\n",
       "        vertical-align: middle;\n",
       "    }\n",
       "\n",
       "    .dataframe tbody tr th {\n",
       "        vertical-align: top;\n",
       "    }\n",
       "\n",
       "    .dataframe thead th {\n",
       "        text-align: right;\n",
       "    }\n",
       "</style>\n",
       "<table border=\"1\" class=\"dataframe\">\n",
       "  <thead>\n",
       "    <tr style=\"text-align: right;\">\n",
       "      <th></th>\n",
       "      <th>destination</th>\n",
       "      <th>passanger</th>\n",
       "      <th>weather</th>\n",
       "      <th>temperature</th>\n",
       "      <th>time</th>\n",
       "      <th>coupon</th>\n",
       "      <th>expiration</th>\n",
       "      <th>gender</th>\n",
       "      <th>age</th>\n",
       "      <th>maritalStatus</th>\n",
       "      <th>...</th>\n",
       "      <th>CoffeeHouse</th>\n",
       "      <th>CarryAway</th>\n",
       "      <th>RestaurantLessThan20</th>\n",
       "      <th>Restaurant20To50</th>\n",
       "      <th>toCoupon_GEQ5min</th>\n",
       "      <th>toCoupon_GEQ15min</th>\n",
       "      <th>toCoupon_GEQ25min</th>\n",
       "      <th>direction_same</th>\n",
       "      <th>direction_opp</th>\n",
       "      <th>Y</th>\n",
       "    </tr>\n",
       "  </thead>\n",
       "  <tbody>\n",
       "    <tr>\n",
       "      <th>0</th>\n",
       "      <td>No Urgent Place</td>\n",
       "      <td>Alone</td>\n",
       "      <td>Sunny</td>\n",
       "      <td>55</td>\n",
       "      <td>2PM</td>\n",
       "      <td>Restaurant(&lt;20)</td>\n",
       "      <td>1d</td>\n",
       "      <td>Female</td>\n",
       "      <td>21</td>\n",
       "      <td>Unmarried partner</td>\n",
       "      <td>...</td>\n",
       "      <td>never</td>\n",
       "      <td>NaN</td>\n",
       "      <td>4~8</td>\n",
       "      <td>1~3</td>\n",
       "      <td>1</td>\n",
       "      <td>0</td>\n",
       "      <td>0</td>\n",
       "      <td>0</td>\n",
       "      <td>1</td>\n",
       "      <td>1</td>\n",
       "    </tr>\n",
       "    <tr>\n",
       "      <th>1</th>\n",
       "      <td>No Urgent Place</td>\n",
       "      <td>Friend(s)</td>\n",
       "      <td>Sunny</td>\n",
       "      <td>80</td>\n",
       "      <td>10AM</td>\n",
       "      <td>Coffee House</td>\n",
       "      <td>2h</td>\n",
       "      <td>Female</td>\n",
       "      <td>21</td>\n",
       "      <td>Unmarried partner</td>\n",
       "      <td>...</td>\n",
       "      <td>never</td>\n",
       "      <td>NaN</td>\n",
       "      <td>4~8</td>\n",
       "      <td>1~3</td>\n",
       "      <td>1</td>\n",
       "      <td>0</td>\n",
       "      <td>0</td>\n",
       "      <td>0</td>\n",
       "      <td>1</td>\n",
       "      <td>0</td>\n",
       "    </tr>\n",
       "    <tr>\n",
       "      <th>2</th>\n",
       "      <td>No Urgent Place</td>\n",
       "      <td>Friend(s)</td>\n",
       "      <td>Sunny</td>\n",
       "      <td>80</td>\n",
       "      <td>10AM</td>\n",
       "      <td>Carry out &amp; Take away</td>\n",
       "      <td>2h</td>\n",
       "      <td>Female</td>\n",
       "      <td>21</td>\n",
       "      <td>Unmarried partner</td>\n",
       "      <td>...</td>\n",
       "      <td>never</td>\n",
       "      <td>NaN</td>\n",
       "      <td>4~8</td>\n",
       "      <td>1~3</td>\n",
       "      <td>1</td>\n",
       "      <td>1</td>\n",
       "      <td>0</td>\n",
       "      <td>0</td>\n",
       "      <td>1</td>\n",
       "      <td>1</td>\n",
       "    </tr>\n",
       "    <tr>\n",
       "      <th>3</th>\n",
       "      <td>No Urgent Place</td>\n",
       "      <td>Friend(s)</td>\n",
       "      <td>Sunny</td>\n",
       "      <td>80</td>\n",
       "      <td>2PM</td>\n",
       "      <td>Coffee House</td>\n",
       "      <td>2h</td>\n",
       "      <td>Female</td>\n",
       "      <td>21</td>\n",
       "      <td>Unmarried partner</td>\n",
       "      <td>...</td>\n",
       "      <td>never</td>\n",
       "      <td>NaN</td>\n",
       "      <td>4~8</td>\n",
       "      <td>1~3</td>\n",
       "      <td>1</td>\n",
       "      <td>1</td>\n",
       "      <td>0</td>\n",
       "      <td>0</td>\n",
       "      <td>1</td>\n",
       "      <td>0</td>\n",
       "    </tr>\n",
       "    <tr>\n",
       "      <th>4</th>\n",
       "      <td>No Urgent Place</td>\n",
       "      <td>Friend(s)</td>\n",
       "      <td>Sunny</td>\n",
       "      <td>80</td>\n",
       "      <td>2PM</td>\n",
       "      <td>Coffee House</td>\n",
       "      <td>1d</td>\n",
       "      <td>Female</td>\n",
       "      <td>21</td>\n",
       "      <td>Unmarried partner</td>\n",
       "      <td>...</td>\n",
       "      <td>never</td>\n",
       "      <td>NaN</td>\n",
       "      <td>4~8</td>\n",
       "      <td>1~3</td>\n",
       "      <td>1</td>\n",
       "      <td>1</td>\n",
       "      <td>0</td>\n",
       "      <td>0</td>\n",
       "      <td>1</td>\n",
       "      <td>0</td>\n",
       "    </tr>\n",
       "  </tbody>\n",
       "</table>\n",
       "<p>5 rows × 26 columns</p>\n",
       "</div>"
      ],
      "text/plain": [
       "       destination  passanger weather  temperature  time  \\\n",
       "0  No Urgent Place      Alone   Sunny           55   2PM   \n",
       "1  No Urgent Place  Friend(s)   Sunny           80  10AM   \n",
       "2  No Urgent Place  Friend(s)   Sunny           80  10AM   \n",
       "3  No Urgent Place  Friend(s)   Sunny           80   2PM   \n",
       "4  No Urgent Place  Friend(s)   Sunny           80   2PM   \n",
       "\n",
       "                  coupon expiration  gender age      maritalStatus  ...  \\\n",
       "0        Restaurant(<20)         1d  Female  21  Unmarried partner  ...   \n",
       "1           Coffee House         2h  Female  21  Unmarried partner  ...   \n",
       "2  Carry out & Take away         2h  Female  21  Unmarried partner  ...   \n",
       "3           Coffee House         2h  Female  21  Unmarried partner  ...   \n",
       "4           Coffee House         1d  Female  21  Unmarried partner  ...   \n",
       "\n",
       "   CoffeeHouse CarryAway RestaurantLessThan20 Restaurant20To50  \\\n",
       "0        never       NaN                  4~8              1~3   \n",
       "1        never       NaN                  4~8              1~3   \n",
       "2        never       NaN                  4~8              1~3   \n",
       "3        never       NaN                  4~8              1~3   \n",
       "4        never       NaN                  4~8              1~3   \n",
       "\n",
       "  toCoupon_GEQ5min toCoupon_GEQ15min toCoupon_GEQ25min direction_same  \\\n",
       "0                1                 0                 0              0   \n",
       "1                1                 0                 0              0   \n",
       "2                1                 1                 0              0   \n",
       "3                1                 1                 0              0   \n",
       "4                1                 1                 0              0   \n",
       "\n",
       "  direction_opp  Y  \n",
       "0             1  1  \n",
       "1             1  0  \n",
       "2             1  1  \n",
       "3             1  0  \n",
       "4             1  0  \n",
       "\n",
       "[5 rows x 26 columns]"
      ]
     },
     "execution_count": 4,
     "metadata": {},
     "output_type": "execute_result"
    }
   ],
   "source": [
    "data.head()"
   ]
  },
  {
   "cell_type": "code",
   "execution_count": null,
   "metadata": {},
   "outputs": [],
   "source": []
  },
  {
   "cell_type": "markdown",
   "metadata": {},
   "source": [
    "2. Investigate the dataset for missing or problematic data."
   ]
  },
  {
   "cell_type": "code",
   "execution_count": 5,
   "metadata": {},
   "outputs": [
    {
     "name": "stdout",
     "output_type": "stream",
     "text": [
      "destination                      No Urgent Place\n",
      "passanger                                  Alone\n",
      "weather                                    Sunny\n",
      "temperature                                   55\n",
      "time                                         2PM\n",
      "coupon                           Restaurant(<20)\n",
      "expiration                                    1d\n",
      "gender                                    Female\n",
      "age                                           21\n",
      "maritalStatus                  Unmarried partner\n",
      "has_children                                   1\n",
      "education               Some college - no degree\n",
      "occupation                            Unemployed\n",
      "income                           $37500 - $49999\n",
      "car                                          NaN\n",
      "Bar                                        never\n",
      "CoffeeHouse                                never\n",
      "CarryAway                                    NaN\n",
      "RestaurantLessThan20                         4~8\n",
      "Restaurant20To50                             1~3\n",
      "toCoupon_GEQ5min                               1\n",
      "toCoupon_GEQ15min                              0\n",
      "toCoupon_GEQ25min                              0\n",
      "direction_same                                 0\n",
      "direction_opp                                  1\n",
      "Y                                              1\n",
      "Name: 0, dtype: object\n",
      "destination                 0\n",
      "passanger                   0\n",
      "weather                     0\n",
      "temperature                 0\n",
      "time                        0\n",
      "coupon                      0\n",
      "expiration                  0\n",
      "gender                      0\n",
      "age                         0\n",
      "maritalStatus               0\n",
      "has_children                0\n",
      "education                   0\n",
      "occupation                  0\n",
      "income                      0\n",
      "car                     12576\n",
      "Bar                       107\n",
      "CoffeeHouse               217\n",
      "CarryAway                 151\n",
      "RestaurantLessThan20      130\n",
      "Restaurant20To50          189\n",
      "toCoupon_GEQ5min            0\n",
      "toCoupon_GEQ15min           0\n",
      "toCoupon_GEQ25min           0\n",
      "direction_same              0\n",
      "direction_opp               0\n",
      "Y                           0\n",
      "dtype: int64\n",
      "Length of the DataFrame: 12684\n"
     ]
    }
   ],
   "source": [
    "first_row = data.iloc[0]\n",
    "\n",
    "# Print the entire first row\n",
    "print(first_row)\n",
    "\n",
    "\n",
    "missing_values = data.isnull()\n",
    "total_missing = missing_values.sum()\n",
    "print(total_missing)\n",
    "\n",
    "length_of_dataframe = len(data)\n",
    "\n",
    "# Print the length\n",
    "print(\"Length of the DataFrame:\", length_of_dataframe)"
   ]
  },
  {
   "cell_type": "markdown",
   "metadata": {},
   "source": [
    "3. Decide what to do about your missing data -- drop, replace, other..."
   ]
  },
  {
   "cell_type": "code",
   "execution_count": 6,
   "metadata": {},
   "outputs": [
    {
     "name": "stdout",
     "output_type": "stream",
     "text": [
      "           destination  passanger weather  temperature  time  \\\n",
      "0      No Urgent Place      Alone   Sunny           55   2PM   \n",
      "1      No Urgent Place  Friend(s)   Sunny           80  10AM   \n",
      "2      No Urgent Place  Friend(s)   Sunny           80  10AM   \n",
      "3      No Urgent Place  Friend(s)   Sunny           80   2PM   \n",
      "4      No Urgent Place  Friend(s)   Sunny           80   2PM   \n",
      "...                ...        ...     ...          ...   ...   \n",
      "12679             Home    Partner   Rainy           55   6PM   \n",
      "12680             Work      Alone   Rainy           55   7AM   \n",
      "12681             Work      Alone   Snowy           30   7AM   \n",
      "12682             Work      Alone   Snowy           30   7AM   \n",
      "12683             Work      Alone   Sunny           80   7AM   \n",
      "\n",
      "                      coupon expiration  gender age      maritalStatus  ...  \\\n",
      "0            Restaurant(<20)         1d  Female  21  Unmarried partner  ...   \n",
      "1               Coffee House         2h  Female  21  Unmarried partner  ...   \n",
      "2      Carry out & Take away         2h  Female  21  Unmarried partner  ...   \n",
      "3               Coffee House         2h  Female  21  Unmarried partner  ...   \n",
      "4               Coffee House         1d  Female  21  Unmarried partner  ...   \n",
      "...                      ...        ...     ...  ..                ...  ...   \n",
      "12679  Carry out & Take away         1d    Male  26             Single  ...   \n",
      "12680  Carry out & Take away         1d    Male  26             Single  ...   \n",
      "12681           Coffee House         1d    Male  26             Single  ...   \n",
      "12682                    Bar         1d    Male  26             Single  ...   \n",
      "12683      Restaurant(20-50)         2h    Male  26             Single  ...   \n",
      "\n",
      "       CoffeeHouse CarryAway RestaurantLessThan20 Restaurant20To50  \\\n",
      "0            never       NaN                  4~8              1~3   \n",
      "1            never       NaN                  4~8              1~3   \n",
      "2            never       NaN                  4~8              1~3   \n",
      "3            never       NaN                  4~8              1~3   \n",
      "4            never       NaN                  4~8              1~3   \n",
      "...            ...       ...                  ...              ...   \n",
      "12679        never       1~3                  4~8              1~3   \n",
      "12680        never       1~3                  4~8              1~3   \n",
      "12681        never       1~3                  4~8              1~3   \n",
      "12682        never       1~3                  4~8              1~3   \n",
      "12683        never       1~3                  4~8              1~3   \n",
      "\n",
      "      toCoupon_GEQ5min toCoupon_GEQ15min toCoupon_GEQ25min direction_same  \\\n",
      "0                    1                 0                 0              0   \n",
      "1                    1                 0                 0              0   \n",
      "2                    1                 1                 0              0   \n",
      "3                    1                 1                 0              0   \n",
      "4                    1                 1                 0              0   \n",
      "...                ...               ...               ...            ...   \n",
      "12679                1                 0                 0              1   \n",
      "12680                1                 0                 0              0   \n",
      "12681                1                 0                 0              1   \n",
      "12682                1                 1                 1              0   \n",
      "12683                1                 0                 0              1   \n",
      "\n",
      "      direction_opp  Y  \n",
      "0                 1  1  \n",
      "1                 1  0  \n",
      "2                 1  1  \n",
      "3                 1  0  \n",
      "4                 1  0  \n",
      "...             ... ..  \n",
      "12679             0  1  \n",
      "12680             1  1  \n",
      "12681             0  0  \n",
      "12682             1  0  \n",
      "12683             0  0  \n",
      "\n",
      "[12684 rows x 26 columns]\n"
     ]
    }
   ],
   "source": [
    "data_cleaned=data.dropna(subset=['Y'])\n",
    "print(data_cleaned)"
   ]
  },
  {
   "cell_type": "markdown",
   "metadata": {},
   "source": [
    "4. What proportion of the total observations chose to accept the coupon? \n",
    "\n"
   ]
  },
  {
   "cell_type": "code",
   "execution_count": 7,
   "metadata": {},
   "outputs": [
    {
     "name": "stdout",
     "output_type": "stream",
     "text": [
      "0.5684326710816777\n",
      "0.4315673289183223\n"
     ]
    }
   ],
   "source": [
    "accepted_rows = data_cleaned[data_cleaned['Y'] == 1]\n",
    "denied_rows = data_cleaned[data_cleaned['Y'] == 0]\n",
    "\n",
    "proportion_accepted = len(accepted_rows) / len(data_cleaned)\n",
    "proportion_denied = len(denied_rows) / len(data_cleaned)\n",
    "\n",
    "print(proportion_accepted)\n",
    "print(proportion_denied)\n"
   ]
  },
  {
   "cell_type": "markdown",
   "metadata": {},
   "source": [
    "5. Use a bar plot to visualize the `coupon` column."
   ]
  },
  {
   "cell_type": "code",
   "execution_count": 8,
   "metadata": {},
   "outputs": [
    {
     "data": {
      "image/png": "[encoded data removed]",
      "text/plain": [
       "<Figure size 640x480 with 1 Axes>"
      ]
     },
     "metadata": {},
     "output_type": "display_data"
    }
   ],
   "source": [
    "labels = ['Accepted', 'Denied']\n",
    "proportions = [proportion_accepted, proportion_denied]\n",
    "\n",
    "plt.bar(labels, proportions, color=['green', 'red'])\n",
    "plt.xlabel('Loan Approval')\n",
    "plt.ylabel('Proportion')\n",
    "plt.title('Proportion of Accepted and Denied Loans')\n",
    "\n",
    "# Show the plot\n",
    "plt.show()"
   ]
  },
  {
   "cell_type": "markdown",
   "metadata": {},
   "source": [
    "6. Use a histogram to visualize the temperature column."
   ]
  },
  {
   "cell_type": "code",
   "execution_count": 9,
   "metadata": {},
   "outputs": [
    {
     "data": {
      "image/png": "[encoded data removed]",
      "text/plain": [
       "<Figure size 640x480 with 1 Axes>"
      ]
     },
     "metadata": {},
     "output_type": "display_data"
    }
   ],
   "source": [
    "temperature_column = data_cleaned['temperature']\n",
    "\n",
    "# Create a histogram\n",
    "plt.hist(temperature_column, bins=20, color='skyblue', edgecolor='black')\n",
    "plt.xlabel('Temperature')\n",
    "plt.ylabel('Frequency')\n",
    "plt.title('Histogram of Temperature Column')\n",
    "\n",
    "# Show the plot\n",
    "plt.show()"
   ]
  },
  {
   "cell_type": "code",
   "execution_count": null,
   "metadata": {},
   "outputs": [],
   "source": []
  },
  {
   "cell_type": "code",
   "execution_count": null,
   "metadata": {},
   "outputs": [],
   "source": []
  },
  {
   "cell_type": "code",
   "execution_count": null,
   "metadata": {},
   "outputs": [],
   "source": []
  },
  {
   "cell_type": "code",
   "execution_count": null,
   "metadata": {},
   "outputs": [],
   "source": []
  },
  {
   "cell_type": "markdown",
   "metadata": {},
   "source": [
    "**Investigating the Bar Coupons**\n",
    "\n",
    "Now, we will lead you through an exploration of just the bar related coupons.  \n",
    "\n",
    "1. Create a new `DataFrame` that contains just the bar coupons.\n"
   ]
  },
  {
   "cell_type": "code",
   "execution_count": 10,
   "metadata": {},
   "outputs": [
    {
     "name": "stdout",
     "output_type": "stream",
     "text": [
      "           destination  passanger weather  temperature  time coupon  \\\n",
      "9      No Urgent Place     Kid(s)   Sunny           80  10AM    Bar   \n",
      "13                Home      Alone   Sunny           55   6PM    Bar   \n",
      "17                Work      Alone   Sunny           55   7AM    Bar   \n",
      "24     No Urgent Place  Friend(s)   Sunny           80  10AM    Bar   \n",
      "35                Home      Alone   Sunny           55   6PM    Bar   \n",
      "...                ...        ...     ...          ...   ...    ...   \n",
      "12663  No Urgent Place  Friend(s)   Sunny           80  10PM    Bar   \n",
      "12664  No Urgent Place  Friend(s)   Sunny           55  10PM    Bar   \n",
      "12667  No Urgent Place      Alone   Rainy           55  10AM    Bar   \n",
      "12670  No Urgent Place    Partner   Rainy           55   6PM    Bar   \n",
      "12682             Work      Alone   Snowy           30   7AM    Bar   \n",
      "\n",
      "      expiration  gender age      maritalStatus  ...  CoffeeHouse CarryAway  \\\n",
      "9             1d  Female  21  Unmarried partner  ...        never       NaN   \n",
      "13            1d  Female  21  Unmarried partner  ...        never       NaN   \n",
      "17            1d  Female  21  Unmarried partner  ...        never       NaN   \n",
      "24            1d    Male  21             Single  ...        less1       4~8   \n",
      "35            1d    Male  21             Single  ...        less1       4~8   \n",
      "...          ...     ...  ..                ...  ...          ...       ...   \n",
      "12663         1d    Male  26             Single  ...        never       1~3   \n",
      "12664         2h    Male  26             Single  ...        never       1~3   \n",
      "12667         1d    Male  26             Single  ...        never       1~3   \n",
      "12670         2h    Male  26             Single  ...        never       1~3   \n",
      "12682         1d    Male  26             Single  ...        never       1~3   \n",
      "\n",
      "      RestaurantLessThan20 Restaurant20To50 toCoupon_GEQ5min  \\\n",
      "9                      4~8              1~3                1   \n",
      "13                     4~8              1~3                1   \n",
      "17                     4~8              1~3                1   \n",
      "24                     4~8            less1                1   \n",
      "35                     4~8            less1                1   \n",
      "...                    ...              ...              ...   \n",
      "12663                  4~8              1~3                1   \n",
      "12664                  4~8              1~3                1   \n",
      "12667                  4~8              1~3                1   \n",
      "12670                  4~8              1~3                1   \n",
      "12682                  4~8              1~3                1   \n",
      "\n",
      "      toCoupon_GEQ15min toCoupon_GEQ25min direction_same direction_opp  Y  \n",
      "9                     1                 0              0             1  0  \n",
      "13                    0                 0              1             0  1  \n",
      "17                    1                 1              0             1  0  \n",
      "24                    0                 0              0             1  1  \n",
      "35                    0                 0              1             0  1  \n",
      "...                 ...               ...            ...           ... ..  \n",
      "12663                 1                 0              0             1  0  \n",
      "12664                 1                 0              0             1  0  \n",
      "12667                 1                 0              0             1  0  \n",
      "12670                 1                 0              0             1  0  \n",
      "12682                 1                 1              0             1  0  \n",
      "\n",
      "[2017 rows x 26 columns]\n"
     ]
    }
   ],
   "source": [
    "bar_coupons_df = data_cleaned[data_cleaned['coupon'] == 'Bar'].copy()\n",
    "\n",
    "# Print the new DataFrame containing just bar coupons\n",
    "print(bar_coupons_df)"
   ]
  },
  {
   "cell_type": "markdown",
   "metadata": {},
   "source": [
    "2. What proportion of bar coupons were accepted?\n"
   ]
  },
  {
   "cell_type": "code",
   "execution_count": 11,
   "metadata": {},
   "outputs": [
    {
     "name": "stdout",
     "output_type": "stream",
     "text": [
      "Proportion of accepted bar coupons: 0.41001487357461575\n"
     ]
    }
   ],
   "source": [
    "accepted_bar_coupons = bar_coupons_df[bar_coupons_df['Y'] == 1]\n",
    "\n",
    "# Calculate the proportion\n",
    "proportion_accepted_bar_coupons = len(accepted_bar_coupons) / len(bar_coupons_df)\n",
    "\n",
    "# Print the proportion\n",
    "print(\"Proportion of accepted bar coupons:\", proportion_accepted_bar_coupons)"
   ]
  },
  {
   "cell_type": "markdown",
   "metadata": {},
   "source": [
    "3. Compare the acceptance rate between those who went to a bar 3 or fewer times a month to those who went more.\n"
   ]
  },
  {
   "cell_type": "code",
   "execution_count": 36,
   "metadata": {},
   "outputs": [
    {
     "name": "stdout",
     "output_type": "stream",
     "text": [
      "666\n",
      "153\n",
      "0.8053204353083434\n",
      "0.18500604594921402\n"
     ]
    }
   ],
   "source": [
    "three_or_less = accepted_bar_coupons[accepted_bar_coupons['Bar'].isin(['never', 'less1', '1~3'])]\n",
    "print(len(three_or_less))\n",
    "three_or_more = accepted_bar_coupons[accepted_bar_coupons['Bar'].isin(['4~8', 'gt8'])]\n",
    "print(len(three_or_more))\n",
    "\n",
    "proportion_three_or_less = len(three_or_less)/len(accepted_bar_coupons)\n",
    "proportion_three_or_more = len(three_or_more)/len(accepted_bar_coupons)\n",
    "print(proportion_three_or_less)\n",
    "print(proportion_three_or_more)\n",
    "\n",
    "# Print the acceptance rates\n",
    "# print(\"Acceptance rate for those who went to a bar 3 or fewer times a month:\", acceptance_rate_3_or_less)\n",
    "# print(\"Acceptance rate for those who went to a bar more than 3 times a month:\", acceptance_rate_3_or_more)"
   ]
  },
  {
   "cell_type": "markdown",
   "metadata": {},
   "source": [
    "4. Compare the acceptance rate between drivers who go to a bar more than once a month and are over the age of 25 to the all others.  Is there a difference?\n"
   ]
  },
  {
   "cell_type": "code",
   "execution_count": 39,
   "metadata": {},
   "outputs": [
    {
     "name": "stdout",
     "output_type": "stream",
     "text": [
      "Acceptance rate for drivers who go to a bar more than once a month and are over the age of 25: 0.11366384522370013\n"
     ]
    },
    {
     "name": "stderr",
     "output_type": "stream",
     "text": [
      "/var/folders/8d/zxg419mx72s7xgfv8kf1820w0000gn/T/ipykernel_11448/1438416590.py:1: SettingWithCopyWarning: \n",
      "A value is trying to be set on a copy of a slice from a DataFrame.\n",
      "Try using .loc[row_indexer,col_indexer] = value instead\n",
      "\n",
      "See the caveats in the documentation: https://pandas.pydata.org/pandas-docs/stable/user_guide/indexing.html#returning-a-view-versus-a-copy\n",
      "  accepted_bar_coupons['age'] = pd.to_numeric(accepted_bar_coupons['age'], errors='coerce')\n"
     ]
    }
   ],
   "source": [
    "accepted_bar_coupons['age'] = pd.to_numeric(accepted_bar_coupons['age'], errors='coerce')\n",
    "bar_more_than_once_and_over_25_df = accepted_bar_coupons[(accepted_bar_coupons['Bar'].isin(['1-3','4~8', 'gt8'])) & (accepted_bar_coupons['age'] > 25)].copy()\n",
    "\n",
    "# Calculate the acceptance rate for drivers who go to a bar more than once a month and are over the age of 25\n",
    "acceptance_rate_over_25 = len(bar_more_than_once_and_over_25_df)/len(accepted_bar_coupons)\n",
    "\n",
    "# Calculate the acceptance rate for all others\n",
    "\n",
    "# Print the acceptance rates\n",
    "print(\"Acceptance rate for drivers who go to a bar more than once a month and are over the age of 25:\", acceptance_rate_over_25)\n",
    "\n"
   ]
  },
  {
   "cell_type": "markdown",
   "metadata": {},
   "source": [
    "5. Use the same process to compare the acceptance rate between drivers who go to bars more than once a month and had passengers that were not a kid and had occupations other than farming, fishing, or forestry. \n"
   ]
  },
  {
   "cell_type": "code",
   "execution_count": 41,
   "metadata": {},
   "outputs": [
    {
     "name": "stdout",
     "output_type": "stream",
     "text": [
      "['Alone' 'Friend(s)' 'Kid(s)' 'Partner']\n",
      "0.4752116082224909\n"
     ]
    }
   ],
   "source": [
    "unique_passenger = accepted_bar_coupons['passanger'].unique()\n",
    "print(unique_passenger)\n",
    "\n",
    "filtered_df = accepted_bar_coupons[\n",
    "    (accepted_bar_coupons['Bar'].isin(['1~3','4~8', 'gt8'])) &\n",
    "    (accepted_bar_coupons['passanger'] != 'Kid(s)') &\n",
    "    (accepted_bar_coupons['occupation'] != 'farming') &\n",
    "    (accepted_bar_coupons['occupation'] != 'fishing') &\n",
    "    (accepted_bar_coupons['occupation'] != 'forestry')\n",
    "].copy()\n",
    "\n",
    "acceptance_rate_filtered = len(filtered_df)/len(accepted_bar_coupons)\n",
    "print(acceptance_rate_filtered)"
   ]
  },
  {
   "cell_type": "markdown",
   "metadata": {},
   "source": [
    "6. Compare the acceptance rates between those drivers who:\n",
    "\n",
    "- go to bars more than once a month, had passengers that were not a kid, and were not widowed *OR*\n",
    "- go to bars more than once a month and are under the age of 30 *OR*\n",
    "- go to cheap restaurants more than 4 times a month and income is less than 50K. \n",
    "\n"
   ]
  },
  {
   "cell_type": "code",
   "execution_count": 42,
   "metadata": {},
   "outputs": [
    {
     "name": "stdout",
     "output_type": "stream",
     "text": [
      "['Unmarried partner' 'Single' 'Married partner' 'Divorced' 'Widowed']\n",
      "0.4752116082224909\n",
      "0.2962515114873035\n"
     ]
    }
   ],
   "source": [
    "\n",
    "unique_maritalStatus = accepted_bar_coupons['maritalStatus'].unique()\n",
    "print(unique_maritalStatus)\n",
    "\n",
    "filtered_maritalStatus = accepted_bar_coupons[\n",
    "    (accepted_bar_coupons['Bar'].isin(['1~3','4~8', 'gt8'])) &\n",
    "    (accepted_bar_coupons['passanger'] != 'Kid(s)') &\n",
    "    (accepted_bar_coupons['maritalStatus'] != 'Widowed')\n",
    "].copy()\n",
    "\n",
    "acceptance_rate_filtered_maritalStatus = len(filtered_maritalStatus)/len(accepted_bar_coupons)\n",
    "print(acceptance_rate_filtered_maritalStatus)\n",
    "\n",
    "\n",
    "filtered_under30 = accepted_bar_coupons[\n",
    "    (accepted_bar_coupons['Bar'].isin(['1~3','4~8', 'gt8'])) &\n",
    "    (accepted_bar_coupons['age'] <30 )\n",
    "].copy()\n",
    "\n",
    "acceptance_rate_filtered_uder30 = len(filtered_under30)/len(accepted_bar_coupons)\n",
    "print(acceptance_rate_filtered_uder30)\n",
    "\n",
    "\n"
   ]
  },
  {
   "cell_type": "markdown",
   "metadata": {},
   "source": [
    "7.  Based on these observations, what do you hypothesize about drivers who accepted the bar coupons?"
   ]
  },
  {
   "cell_type": "code",
   "execution_count": null,
   "metadata": {},
   "outputs": [],
   "source": [
    "I can hypothesize based on these results the acceptance rate is much higher amongst drivers without kids as passengers."
   ]
  },
  {
   "cell_type": "markdown",
   "metadata": {},
   "source": [
    "### Independent Investigation\n",
    "\n",
    "Using the bar coupon example as motivation, you are to explore one of the other coupon groups and try to determine the characteristics of passengers who accept the coupons.  "
   ]
  },
  {
   "cell_type": "code",
   "execution_count": 50,
   "metadata": {},
   "outputs": [
    {
     "name": "stdout",
     "output_type": "stream",
     "text": [
      "0.008464328899637243\n",
      "0.2877871825876663\n"
     ]
    }
   ],
   "source": [
    "filtered_under30_with_kids = accepted_bar_coupons[\n",
    "    (accepted_bar_coupons['Bar'].isin(['1~3','4~8', 'gt8'])) &\n",
    "    (accepted_bar_coupons['age'] <30 ) &\n",
    "    (accepted_bar_coupons['passanger'] =='Kid(s)')\n",
    "].copy()\n",
    "\n",
    "acceptance_rate_filtered_under30_with_kids = len(filtered_under30_with_kids)/len(accepted_bar_coupons)\n",
    "print(acceptance_rate_filtered_under30_with_kids)\n",
    "\n",
    "filtered_under30_no_kids = accepted_bar_coupons[\n",
    "    (accepted_bar_coupons['Bar'].isin(['1~3','4~8', 'gt8'])) &\n",
    "    (accepted_bar_coupons['age'] <30 ) &\n",
    "    (accepted_bar_coupons['passanger'] !='Kid(s)')\n",
    "].copy()\n",
    "\n",
    "acceptance_rate_filtered_under30_no_kids = len(filtered_under30_no_kids)/len(accepted_bar_coupons)\n",
    "print(acceptance_rate_filtered_under30_no_kids)"
   ]
  },
  {
   "cell_type": "code",
   "execution_count": null,
   "metadata": {},
   "outputs": [],
   "source": []
  },
  {
   "cell_type": "code",
   "execution_count": null,
   "metadata": {},
   "outputs": [],
   "source": []
  },
  {
   "cell_type": "code",
   "execution_count": null,
   "metadata": {},
   "outputs": [],
   "source": []
  },
  {
   "cell_type": "code",
   "execution_count": null,
   "metadata": {},
   "outputs": [],
   "source": []
  }
 ],
 "metadata": {
  "kernelspec": {
   "display_name": "Python 3 (ipykernel)",
   "language": "python",
   "name": "python3"
  },
  "language_info": {
   "codemirror_mode": {
    "name": "ipython",
    "version": 3
   },
   "file_extension": ".py",
   "mimetype": "text/x-python",
   "name": "python",
   "nbconvert_exporter": "python",
   "pygments_lexer": "ipython3",
   "version": "3.11.5"
  },
  "widgets": {
   "application/vnd.jupyter.widget-state+json": {
    "state": {},
    "version_major": 2,
    "version_minor": 0
   }
  }
 },
 "nbformat": 4,
 "nbformat_minor": 4
}
